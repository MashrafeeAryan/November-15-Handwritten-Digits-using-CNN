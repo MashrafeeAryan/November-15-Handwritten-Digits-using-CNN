{
  "nbformat": 4,
  "nbformat_minor": 0,
  "metadata": {
    "colab": {
      "provenance": [],
      "gpuType": "T4",
      "authorship_tag": "ABX9TyM9DZdK8q6/7mv1aCN/F9kx",
      "include_colab_link": true
    },
    "kernelspec": {
      "name": "python3",
      "display_name": "Python 3"
    },
    "language_info": {
      "name": "python"
    },
    "accelerator": "GPU"
  },
  "cells": [
    {
      "cell_type": "markdown",
      "metadata": {
        "id": "view-in-github",
        "colab_type": "text"
      },
      "source": [
        "<a href=\"https://colab.research.google.com/github/MashrafeeAryan/November-15-Handwritten-Digits-using-CNN/blob/main/November_15_Handwritten_Digits_using_CNN.ipynb\" target=\"_parent\"><img src=\"https://colab.research.google.com/assets/colab-badge.svg\" alt=\"Open In Colab\"/></a>"
      ]
    },
    {
      "cell_type": "code",
      "execution_count": 1,
      "metadata": {
        "id": "yKHeBfSwFtby"
      },
      "outputs": [],
      "source": [
        "import torch\n",
        "from torchvision import transforms, datasets\n",
        "import torch.nn.functional as F\n",
        "from torch.utils.data import DataLoader\n",
        "import torch.optim as optim\n",
        "import torch.nn as nn"
      ]
    },
    {
      "cell_type": "code",
      "source": [
        "transform = transforms.Compose([transforms.ToTensor()])\n",
        "train_data = datasets.MNIST(root=\"./data\", download=True, train=True, transform=transform)\n",
        "test_data = datasets.MNIST(root=\"./data\", download=True, train=False, transform=transform)"
      ],
      "metadata": {
        "id": "rzv-G5a6Gn-0",
        "colab": {
          "base_uri": "https://localhost:8080/"
        },
        "outputId": "5efd2eca-f736-4e9d-b808-55e837f29470"
      },
      "execution_count": 2,
      "outputs": [
        {
          "output_type": "stream",
          "name": "stdout",
          "text": [
            "Downloading http://yann.lecun.com/exdb/mnist/train-images-idx3-ubyte.gz\n",
            "Failed to download (trying next):\n",
            "HTTP Error 403: Forbidden\n",
            "\n",
            "Downloading https://ossci-datasets.s3.amazonaws.com/mnist/train-images-idx3-ubyte.gz\n",
            "Downloading https://ossci-datasets.s3.amazonaws.com/mnist/train-images-idx3-ubyte.gz to ./data/MNIST/raw/train-images-idx3-ubyte.gz\n"
          ]
        },
        {
          "output_type": "stream",
          "name": "stderr",
          "text": [
            "100%|██████████| 9.91M/9.91M [00:00<00:00, 16.5MB/s]\n"
          ]
        },
        {
          "output_type": "stream",
          "name": "stdout",
          "text": [
            "Extracting ./data/MNIST/raw/train-images-idx3-ubyte.gz to ./data/MNIST/raw\n",
            "\n",
            "Downloading http://yann.lecun.com/exdb/mnist/train-labels-idx1-ubyte.gz\n",
            "Failed to download (trying next):\n",
            "HTTP Error 403: Forbidden\n",
            "\n",
            "Downloading https://ossci-datasets.s3.amazonaws.com/mnist/train-labels-idx1-ubyte.gz\n",
            "Downloading https://ossci-datasets.s3.amazonaws.com/mnist/train-labels-idx1-ubyte.gz to ./data/MNIST/raw/train-labels-idx1-ubyte.gz\n"
          ]
        },
        {
          "output_type": "stream",
          "name": "stderr",
          "text": [
            "100%|██████████| 28.9k/28.9k [00:00<00:00, 506kB/s]\n"
          ]
        },
        {
          "output_type": "stream",
          "name": "stdout",
          "text": [
            "Extracting ./data/MNIST/raw/train-labels-idx1-ubyte.gz to ./data/MNIST/raw\n",
            "\n",
            "Downloading http://yann.lecun.com/exdb/mnist/t10k-images-idx3-ubyte.gz\n",
            "Failed to download (trying next):\n",
            "HTTP Error 403: Forbidden\n",
            "\n",
            "Downloading https://ossci-datasets.s3.amazonaws.com/mnist/t10k-images-idx3-ubyte.gz\n",
            "Downloading https://ossci-datasets.s3.amazonaws.com/mnist/t10k-images-idx3-ubyte.gz to ./data/MNIST/raw/t10k-images-idx3-ubyte.gz\n"
          ]
        },
        {
          "output_type": "stream",
          "name": "stderr",
          "text": [
            "100%|██████████| 1.65M/1.65M [00:00<00:00, 4.54MB/s]\n"
          ]
        },
        {
          "output_type": "stream",
          "name": "stdout",
          "text": [
            "Extracting ./data/MNIST/raw/t10k-images-idx3-ubyte.gz to ./data/MNIST/raw\n",
            "\n",
            "Downloading http://yann.lecun.com/exdb/mnist/t10k-labels-idx1-ubyte.gz\n",
            "Failed to download (trying next):\n",
            "HTTP Error 403: Forbidden\n",
            "\n",
            "Downloading https://ossci-datasets.s3.amazonaws.com/mnist/t10k-labels-idx1-ubyte.gz\n",
            "Downloading https://ossci-datasets.s3.amazonaws.com/mnist/t10k-labels-idx1-ubyte.gz to ./data/MNIST/raw/t10k-labels-idx1-ubyte.gz\n"
          ]
        },
        {
          "output_type": "stream",
          "name": "stderr",
          "text": [
            "100%|██████████| 4.54k/4.54k [00:00<00:00, 4.00MB/s]"
          ]
        },
        {
          "output_type": "stream",
          "name": "stdout",
          "text": [
            "Extracting ./data/MNIST/raw/t10k-labels-idx1-ubyte.gz to ./data/MNIST/raw\n",
            "\n"
          ]
        },
        {
          "output_type": "stream",
          "name": "stderr",
          "text": [
            "\n"
          ]
        }
      ]
    },
    {
      "cell_type": "code",
      "source": [
        "train_dataloader = DataLoader(dataset = train_data, batch_size = 64, shuffle=True)\n",
        "test_dataloader = DataLoader(dataset = test_data, batch_size = 64, shuffle=False)"
      ],
      "metadata": {
        "id": "7-znkkQ5H6W5"
      },
      "execution_count": 3,
      "outputs": []
    },
    {
      "cell_type": "code",
      "source": [
        "a,b = train_data[0]\n",
        "a.shape\n"
      ],
      "metadata": {
        "colab": {
          "base_uri": "https://localhost:8080/"
        },
        "id": "9lphhENuKz0t",
        "outputId": "5ce73928-917a-4c78-d2b0-570cf62ec2a9"
      },
      "execution_count": 4,
      "outputs": [
        {
          "output_type": "execute_result",
          "data": {
            "text/plain": [
              "torch.Size([1, 28, 28])"
            ]
          },
          "metadata": {},
          "execution_count": 4
        }
      ]
    },
    {
      "cell_type": "code",
      "source": [
        "class CNN(nn.Module):\n",
        "  def __init__(self):\n",
        "    super().__init__()\n",
        "    self.CNN_1 = nn.Conv2d(in_channels =1, out_channels=16, kernel_size=3, stride=1, padding=1)\n",
        "    self.CNN_2 = nn.Conv2d(in_channels =16, out_channels=32, kernel_size=3, stride=1, padding=1)\n",
        "\n",
        "    self.pool = nn.MaxPool2d(kernel_size=2, stride=2)\n",
        "\n",
        "    self.Linear_1 =  nn.Linear(32 * 14 * 14, 128)\n",
        "    self.Linear_2 =  nn.Linear(128, 10)\n",
        "\n",
        "  def forward(self, x):\n",
        "    x = self.pool(F.relu(self.CNN_1(x)))\n",
        "    x= F.relu(self.CNN_2(x))\n",
        "\n",
        "    x = x.view(-1, 32 * 14 * 14)\n",
        "    x = F.relu(self.Linear_1(x))\n",
        "    x = self.Linear_2(x)\n",
        "    return x"
      ],
      "metadata": {
        "id": "KuKpH_xhKFFn"
      },
      "execution_count": 5,
      "outputs": []
    },
    {
      "cell_type": "code",
      "source": [
        "model_1 = CNN()\n",
        "loss_func = nn.CrossEntropyLoss()\n",
        "optimizer = optim.Adam(model_1.parameters(), lr=0.001)\n"
      ],
      "metadata": {
        "id": "XhjUstcQLv-_"
      },
      "execution_count": 6,
      "outputs": []
    },
    {
      "cell_type": "code",
      "source": [
        "epochs = 5\n",
        "for epoch in range(epochs):\n",
        "  train_loss = 0\n",
        "  test_loss = 0\n",
        "  model_1.train()\n",
        "  for image, labels in train_dataloader:\n",
        "    #Do the forward pass\n",
        "    results = model_1(image)\n",
        "\n",
        "    #Calculate the loss\n",
        "    loss = loss_func(results, labels)\n",
        "\n",
        "    #Optimizer.zero_grad\n",
        "    optimizer.zero_grad()\n",
        "\n",
        "    #loss backwards\n",
        "    loss.backward()\n",
        "\n",
        "    #Optimizer.step\n",
        "    optimizer.step()\n",
        "\n",
        "    train_loss += loss.item()\n",
        "\n",
        "  model_1.eval()\n",
        "  with torch.inference_mode():\n",
        "    for image, labels in test_dataloader:\n",
        "      test_results = model_1(image)\n",
        "      t_loss = loss_func(test_results, labels)\n",
        "      test_loss += t_loss.item()\n",
        "\n",
        "  print(f\"Epochs: {epoch+1}/{epochs} | Train Loss: {train_loss/len(train_dataloader)} | Test Loss: {test_loss/len(test_dataloader)}\")\n"
      ],
      "metadata": {
        "colab": {
          "base_uri": "https://localhost:8080/"
        },
        "id": "x7pgWRzQNGDq",
        "outputId": "01b4e85b-4b4c-4a2b-d71e-440277b0977a"
      },
      "execution_count": 7,
      "outputs": [
        {
          "output_type": "stream",
          "name": "stdout",
          "text": [
            "Epochs: 1/5 | Train Loss: 0.18512392180489262 | Test Loss: 0.05588445102571284\n",
            "Epochs: 2/5 | Train Loss: 0.05200618703073677 | Test Loss: 0.04732343300014354\n",
            "Epochs: 3/5 | Train Loss: 0.03333307006051327 | Test Loss: 0.03251646504315524\n",
            "Epochs: 4/5 | Train Loss: 0.023695932918205622 | Test Loss: 0.02956868094677204\n",
            "Epochs: 5/5 | Train Loss: 0.018194225341453516 | Test Loss: 0.03689622231877076\n"
          ]
        }
      ]
    },
    {
      "cell_type": "code",
      "source": [
        "accurate_images = 0\n",
        "inaccurate_images = 0\n",
        "for i in range(len(test_data)):\n",
        "  a, b = test_data[i]\n",
        "  predictions = model_1(a)\n",
        "  prediction_index = torch.argmax(predictions, dim=1)\n",
        "  if prediction_index == b:\n",
        "    accurate_images+=1\n",
        "  else:\n",
        "    inaccurate_images+=1\n",
        "print(f\"Accurate Images: {accurate_images} | Inaccurate Images: {inaccurate_images}\")"
      ],
      "metadata": {
        "id": "Z_hsVTclXwt9",
        "colab": {
          "base_uri": "https://localhost:8080/"
        },
        "outputId": "0d960dc5-3898-4abf-f6ae-480f1cca2710"
      },
      "execution_count": 8,
      "outputs": [
        {
          "output_type": "stream",
          "name": "stdout",
          "text": [
            "Accurate Images: 9890 | Inaccurate Images: 110\n"
          ]
        }
      ]
    },
    {
      "cell_type": "code",
      "source": [
        "torch.save(model_1.state_dict(), 'model_1.pth')\n"
      ],
      "metadata": {
        "id": "KF2jrYm7YP5P"
      },
      "execution_count": 9,
      "outputs": []
    },
    {
      "cell_type": "code",
      "source": [],
      "metadata": {
        "id": "rAoTiPWEh7Cr",
        "colab": {
          "base_uri": "https://localhost:8080/"
        },
        "outputId": "cba1e0fc-a4f4-4070-da24-7062b8f7f88e"
      },
      "execution_count": 10,
      "outputs": [
        {
          "output_type": "stream",
          "name": "stdout",
          "text": [
            "\u001b[33mhint: Using 'master' as the name for the initial branch. This default branch name\u001b[m\n",
            "\u001b[33mhint: is subject to change. To configure the initial branch name to use in all\u001b[m\n",
            "\u001b[33mhint: of your new repositories, which will suppress this warning, call:\u001b[m\n",
            "\u001b[33mhint: \u001b[m\n",
            "\u001b[33mhint: \tgit config --global init.defaultBranch <name>\u001b[m\n",
            "\u001b[33mhint: \u001b[m\n",
            "\u001b[33mhint: Names commonly chosen instead of 'master' are 'main', 'trunk' and\u001b[m\n",
            "\u001b[33mhint: 'development'. The just-created branch can be renamed via this command:\u001b[m\n",
            "\u001b[33mhint: \u001b[m\n",
            "\u001b[33mhint: \tgit branch -m <name>\u001b[m\n",
            "Initialized empty Git repository in /content/.git/\n"
          ]
        }
      ]
    },
    {
      "cell_type": "code",
      "source": [],
      "metadata": {
        "colab": {
          "base_uri": "https://localhost:8080/"
        },
        "id": "kzlyUaWHvUwv",
        "outputId": "7fa092e4-820a-49d9-80c1-5233d113c6f7"
      },
      "execution_count": 17,
      "outputs": [
        {
          "output_type": "stream",
          "name": "stdout",
          "text": [
            "Reinitialized existing Git repository in /content/.git/\n",
            "fatal: pathspec 'README.md' did not match any files\n",
            "Author identity unknown\n",
            "\n",
            "*** Please tell me who you are.\n",
            "\n",
            "Run\n",
            "\n",
            "  git config --global user.email \"you@example.com\"\n",
            "  git config --global user.name \"Your Name\"\n",
            "\n",
            "to set your account's default identity.\n",
            "Omit --global to set the identity only in this repository.\n",
            "\n",
            "fatal: unable to auto-detect email address (got 'root@293aaa06892b.(none)')\n",
            "error: remote origin already exists.\n",
            "error: src refspec mai does not match any\n",
            "\u001b[31merror: failed to push some refs to 'https://github.com/MashrafeeAryan/November-15-Handwritten-Digits-using-CNN.git'\n",
            "\u001b[m"
          ]
        }
      ]
    },
    {
      "cell_type": "code",
      "source": [],
      "metadata": {
        "id": "s7lBpBSYvZp7"
      },
      "execution_count": 12,
      "outputs": []
    },
    {
      "cell_type": "code",
      "source": [],
      "metadata": {
        "colab": {
          "base_uri": "https://localhost:8080/"
        },
        "id": "d9AjM_C5vgmN",
        "outputId": "0aceb14e-92d9-49ee-acb2-71b0c0da2381"
      },
      "execution_count": 13,
      "outputs": [
        {
          "output_type": "stream",
          "name": "stdout",
          "text": [
            "Author identity unknown\n",
            "\n",
            "*** Please tell me who you are.\n",
            "\n",
            "Run\n",
            "\n",
            "  git config --global user.email \"you@example.com\"\n",
            "  git config --global user.name \"Your Name\"\n",
            "\n",
            "to set your account's default identity.\n",
            "Omit --global to set the identity only in this repository.\n",
            "\n",
            "fatal: unable to auto-detect email address (got 'root@293aaa06892b.(none)')\n"
          ]
        }
      ]
    },
    {
      "cell_type": "code",
      "source": [
        "!git push origin main\n"
      ],
      "metadata": {
        "colab": {
          "base_uri": "https://localhost:8080/"
        },
        "id": "hAn-OCuOvi1C",
        "outputId": "77b2034d-5d3e-4254-b8b0-f8349b6ef215"
      },
      "execution_count": 14,
      "outputs": [
        {
          "output_type": "stream",
          "name": "stdout",
          "text": [
            "error: src refspec main does not match any\n",
            "\u001b[31merror: failed to push some refs to 'https://github.com/MashrafeeAryan/November-15-Handwritten-Digits-using-CNN.git'\n",
            "\u001b[m"
          ]
        }
      ]
    },
    {
      "cell_type": "code",
      "source": [],
      "metadata": {
        "id": "hXvBdIr0vyKh"
      },
      "execution_count": null,
      "outputs": []
    }
  ]
}